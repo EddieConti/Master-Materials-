{
 "cells": [
  {
   "cell_type": "code",
   "execution_count": null,
   "metadata": {},
   "outputs": [],
   "source": [
    "import pymongo\n",
    "import pandas as pd\n",
    "import requests\n",
    "import json\n",
    "import datetime\n",
    "\n",
    "# Database \n",
    "df= pd.read_csv(\"C:/Users/Eddie/OneDrive/Desktop/Data Science/big data/Assisgnment_1/Top100-US.csv\",sep=\";\")\n",
    "\n",
    "\n",
    "# Connection to the API\n",
    "\n",
    "url = \"https://weatherapi-com.p.rapidapi.com/current.json\"\n",
    "headers = {\n",
    "\t\"X-RapidAPI-Key\": \"f67045ffddmshb3c16d39f95bfb0p1b6d85jsne1fe2218bea4\",\n",
    "\t\"X-RapidAPI-Host\": \"weatherapi-com.p.rapidapi.com\"\n",
    "}\n",
    "\n",
    "weather_data=[]\n",
    "\n",
    "# Connection to MongoDB Atlas\n",
    "uri = \"mongodb+srv://EddieConti:<password>@cluster0.ydobulw.mongodb.net/?retryWrites=true&w=majority&appName=Cluster0\"\n",
    "client = pymongo.MongoClient(uri)\n",
    "\n",
    "# Set up the database and the collection\n",
    "db = client['Weather_Project']\n",
    "collection = db['city_weather']\n",
    "\n",
    "for index, row in df.iterrows():\n",
    "    # Extract of zip_code and city name\n",
    "    zip_code = row['Zip']\n",
    "    city_name = row['City']\n",
    "    querystring = {\"q\": f\"{city_name},{zip_code}\"}\n",
    "    response = requests.get(url, headers=headers, params=querystring)\n",
    "    \n",
    "    if response.status_code == 200:\n",
    "        weather_data = response.json()\n",
    "        \n",
    "        # The document we have to insert with the required format\n",
    "        document = {\n",
    "            \"zip\": zip_code,\n",
    "            \"city\": city_name,\n",
    "            \"created_at\": datetime.datetime.now(),\n",
    "            \"weather\": weather_data\n",
    "        }\n",
    "        \n",
    "        # We insert the document\n",
    "        collection.insert_one(document)\n",
    "    else:\n",
    "        print(f\"Error for zip: {zip_code} and city: {city_name}\")"
   ]
  }
 ],
 "metadata": {
  "kernelspec": {
   "display_name": "base",
   "language": "python",
   "name": "python3"
  },
  "language_info": {
   "codemirror_mode": {
    "name": "ipython",
    "version": 3
   },
   "file_extension": ".py",
   "mimetype": "text/x-python",
   "name": "python",
   "nbconvert_exporter": "python",
   "pygments_lexer": "ipython3",
   "version": "3.11.5"
  }
 },
 "nbformat": 4,
 "nbformat_minor": 2
}
