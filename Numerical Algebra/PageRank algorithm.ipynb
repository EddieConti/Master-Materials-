{
  "nbformat": 4,
  "nbformat_minor": 0,
  "metadata": {
    "colab": {
      "provenance": []
    },
    "kernelspec": {
      "name": "python3",
      "display_name": "Python 3"
    },
    "language_info": {
      "name": "python"
    }
  },
  "cells": [
    {
      "cell_type": "markdown",
      "source": [
        "### PageRank Implementation 1"
      ],
      "metadata": {
        "id": "XdNprdLNsPCy"
      }
    },
    {
      "cell_type": "markdown",
      "source": [
        "The PR reduces to find the solution to $Ax=x$, namely an eigenvector $x$ assosiacted to the eigenvalue $1$. We end up with that equation because we state that the score of a page is determined by the score of the connected pages weighted by their relevance.\n",
        " We aim at finding a unique solution, however disconnected network and dangling nodes are pathological situations. In order to tackle them, we consider the following matrix $$M_m = (1-m)A + mS$$ which is a column stochastic and has a unique PR vector. The idea behind this is to create a minimal (artificial) connection with all the network while maintaing the original link matrix.\n",
        "\n",
        "To compute the PR vector we follow the iterative strategy $$x_{k+1}=(1-m)GDx_k+ez^tx_k.$$\n",
        "We are using the power method which is an algorithm to determine the eigenvector corresponding to the largest eigenvalue of a matrix $A$. The idea is quite simple: given a diagonalizable matrix, there exist a change of basis such that the matrix is diagonal. As a consequence, on that basis performing $$Ax=(\\lambda_1x_1,\\ldots,\\lambda_nx_n)$$\n",
        "where $\\lambda_1,\\ldots,\\lambda_n$ are eigenvalues. Since it is diagonal,\n",
        "$$A^mx=(\\lambda_1^mx_1,\\ldots,\\lambda_n^mx_n)$$\n",
        "but if $\\lambda_1$ is the largest eigenvalue, when normalizing and letting $m$ increasing $(\\lambda_2^mx_2,\\ldots,\\lambda_n^mx_n)$ are negligible and so we end up with an eigenvector. Geometrically we are stretching on the direction of highest relevance. In our scenario, thanks to a theorem, we know that for a column stochastic matrix $A$ if we consider $M=(1-\\alpha)A+\\alpha S$ where $S$ is a perturbation by a uniform network and $\\alpha \\in (0,1)$, then $1$ is the largest eigenvalue.\n",
        "\n",
        "\n",
        "\n",
        "For the implementation we use the Gnutella30 square sparse matrix of dimension 36.682."
      ],
      "metadata": {
        "id": "TBXXcmA_tQbS"
      }
    },
    {
      "cell_type": "code",
      "source": [
        "import numpy as np\n",
        "import scipy\n",
        "import matplotlib.pyplot as plt\n",
        "from google.colab import drive\n",
        "import os\n",
        "import pandas as pd\n",
        "drive.mount('/content/drive', force_remount=False)"
      ],
      "metadata": {
        "colab": {
          "base_uri": "https://localhost:8080/"
        },
        "id": "gKUtnhKj5Z2G",
        "outputId": "3baf5df3-c38e-4e29-9f90-e4e84e4397eb"
      },
      "execution_count": null,
      "outputs": [
        {
          "output_type": "stream",
          "name": "stdout",
          "text": [
            "Mounted at /content/drive\n"
          ]
        }
      ]
    },
    {
      "cell_type": "code",
      "source": [
        "from scipy.sparse import csr_matrix, coo_matrix\n",
        "file_path = '/content/drive/My Drive/Data Science UB/Numerical Linear Algebra/p2p-Gnutella30.txt'\n",
        "n=36682\n",
        "\n",
        "row, col = np.genfromtxt(file_path, delimiter=None, unpack=True)\n",
        "col = col.astype(np.int32)\n",
        "values = np.ones(len(row))\n",
        "G = csr_matrix((values, (row, col)), shape=(n,n))\n",
        "G_array=G.toarray()\n",
        "#We compute the out degrees\n",
        "out_degree = G_array.sum(axis=0)\n",
        "diag = np.where(out_degree != 0,1/out_degree, 0)\n",
        "D= scipy.sparse.diags(diag, 0)\n",
        "#Now we compute the matrix A=GD\n",
        "A=G.dot(D)\n",
        "e=np.ones(n) #we have to convert into column vector.\n",
        "#Now we are ready to compute the vector z:\n",
        "m=0.15 #the Google parameter\n",
        "A_coo = A.tocoo() #because we need to convert it in order to extract the column.\n",
        "column=np.unique(A_coo.col) #because if I have the column then there is a non zero element, then I take the unique values of this.\n",
        "z = np.zeros(n)\n",
        "z[column] = m / n\n",
        "z = np.where(z == 0, 1 / n, z)\n"
      ],
      "metadata": {
        "colab": {
          "base_uri": "https://localhost:8080/"
        },
        "id": "t6j1qbWtyilj",
        "outputId": "fcb92121-9d2e-4917-9021-d2cbaf902661"
      },
      "execution_count": null,
      "outputs": [
        {
          "output_type": "stream",
          "name": "stderr",
          "text": [
            "<ipython-input-2-3c7daae5b0f7>:12: RuntimeWarning: divide by zero encountered in divide\n",
            "  diag = np.where(out_degree != 0,1/out_degree, 0)\n"
          ]
        }
      ]
    },
    {
      "cell_type": "code",
      "source": [
        "#We are now ready to compute the PR vector of M_m\n",
        "tol=1e-4\n",
        "x0=1/n*np.ones(n)\n",
        "iter=0\n",
        "while True:\n",
        "    temp=z.dot(x0)\n",
        "    x1 = (1 - m) * A.dot(x0) + e*temp\n",
        "    if np.linalg.norm(x1 - x0, np.inf) <= tol:\n",
        "        break\n",
        "    x0 = x1\n",
        "    iter+=1\n",
        "print(\"The solution is:\", x1)\n",
        "print('Number of iterations:', iter)\n"
      ],
      "metadata": {
        "id": "hNa1ZSrxDFtD",
        "colab": {
          "base_uri": "https://localhost:8080/"
        },
        "outputId": "48fd1626-0944-4a8e-d120-76245c649e8d"
      },
      "execution_count": null,
      "outputs": [
        {
          "output_type": "stream",
          "name": "stdout",
          "text": [
            "The solution is: [1.34576685e-04 4.42540806e-06 6.59006990e-05 ... 4.42540806e-06\n",
            " 4.42540806e-06 4.42540806e-06]\n",
            "Number of iterations: 7\n"
          ]
        }
      ]
    },
    {
      "cell_type": "markdown",
      "source": [
        "Let us check that the solution is correct: $x_1$ should be such that $M_mx_1=x_1$ where we recall that $mS=ez$ with our notation. We can compute the distance between $x_1$ and $M_mx_1$ and actually we obtain that the vector compute satisfies the equation: the error is approximately $1.55\\cdot10^{-9}$"
      ],
      "metadata": {
        "id": "bpf5MAqePXsJ"
      }
    },
    {
      "cell_type": "code",
      "source": [
        "test_vector=(1 - m) * A.dot(x0) + e*z.dot(x1)\n",
        "print(np.linalg.norm(x1 - test_vector, np.inf))"
      ],
      "metadata": {
        "colab": {
          "base_uri": "https://localhost:8080/"
        },
        "id": "Bv_x1UoSB76Y",
        "outputId": "bdc45168-c29b-4ca0-eac1-c1654c61143c"
      },
      "execution_count": null,
      "outputs": [
        {
          "output_type": "stream",
          "name": "stdout",
          "text": [
            "1.5565317497369044e-09\n"
          ]
        }
      ]
    },
    {
      "cell_type": "code",
      "source": [
        "print(max(x1)) #This is the most important node according to the PR algorithm.\n",
        "#The page associated to that value will be displayed as first"
      ],
      "metadata": {
        "colab": {
          "base_uri": "https://localhost:8080/"
        },
        "id": "JhFJHiUoJP4o",
        "outputId": "a4904848-a9c0-4bb5-aa69-252c39967842"
      },
      "execution_count": null,
      "outputs": [
        {
          "output_type": "stream",
          "name": "stdout",
          "text": [
            "0.001383788655875284\n"
          ]
        }
      ]
    },
    {
      "cell_type": "markdown",
      "source": [
        "###The role of the parameter $m$ ###"
      ],
      "metadata": {
        "id": "sxafjNAgpfIk"
      }
    },
    {
      "cell_type": "markdown",
      "source": [
        "Let us see what happens if we change the value of $m$. The parameter $m$ is known also as damping factor. It affects how likely a random user is to follow a link versus teleporting to a random page. If we use small values for $m$ we are actually not considering the matrix $S$ which adds \"randomness\" to our case. On the other hand, if we use big values for $m$ actually we are cancelling the effect of $A$ which is representing our network and we are giving more space to randomness.\n",
        "Below we tried different values of $m$ and what can be seen is that augmenting the value of $m$ decrease the number of iterations. The variance of the vector (we wanted to check how spread is the solution $x1$) is almost of the same order. The maximum value decrease with the increasing of the value $m$. This is not relevant since we are ordering the vector, but if we consider that value as \"the importance of the page\" then we can conclude that lower values of $m$ give a greater importance to the pages.\n",
        "\n",
        "As a consequence, these observations align with the intuition behind the damping factor in PageRank. A bigger $m$ places more emphasis on the random teleportation behavior, while a smaller $m$ emphasizes link-following behavior, leading to slower convergence since we are investigating the structure of the network. From the other perspective, a larger $m$ emphasizes randomness and promotes quicker convergence, as link-following behavior becomes less significant. The parameter $m$ influences the trade-off between link structure and randomness in the PageRank algorithm."
      ],
      "metadata": {
        "id": "Tsu6YP0oDQcv"
      }
    },
    {
      "cell_type": "code",
      "source": [
        "import pandas as pd\n",
        "\n",
        "def solPR(m_values):\n",
        "    results = []\n",
        "\n",
        "    for m in m_values:\n",
        "        A_coo = A.tocoo()\n",
        "        column = np.unique(A_coo.col)\n",
        "        z = np.zeros(n)\n",
        "        z[column] = m / n\n",
        "        z = np.where(z == 0, 1 / n, z)\n",
        "        tol = 1e-4\n",
        "        x0 = 1 / n * np.ones(n)\n",
        "        iter_count = 0\n",
        "\n",
        "        while True:\n",
        "            temp = z.dot(x0)\n",
        "            x1 = (1 - m) * A.dot(x0) + e * temp\n",
        "            if np.linalg.norm(x1 - x0, np.inf) <= tol:\n",
        "                break\n",
        "            x0 = x1\n",
        "            iter_count += 1\n",
        "\n",
        "        max_element = np.max(x1)\n",
        "        variance = np.var(x1)\n",
        "        results.append({'m': m, 'iterations': iter_count, 'max_element': max_element, 'variance': variance})\n",
        "\n",
        "    df_results = pd.DataFrame(results)\n",
        "    return df_results\n",
        "\n",
        "#We test these 5 values of m\n",
        "m_values_to_test = [0.1, 0.2, 0.25, 0.3, 0.4, 0.5]\n",
        "result_dataframe = solPR(m_values_to_test)\n",
        "\n",
        "print(result_dataframe)\n"
      ],
      "metadata": {
        "colab": {
          "base_uri": "https://localhost:8080/"
        },
        "id": "_jCQMA5iJjvi",
        "outputId": "2533efce-fd3a-46d3-a0cf-b37abfc8261b"
      },
      "execution_count": null,
      "outputs": [
        {
          "output_type": "stream",
          "name": "stdout",
          "text": [
            "      m  iterations  max_element      variance\n",
            "0  0.10          11     0.001684  5.013072e-09\n",
            "1  0.20           7     0.001191  2.951423e-09\n",
            "2  0.25           6     0.001016  2.329729e-09\n",
            "3  0.30           5     0.000884  1.854707e-09\n",
            "4  0.40           4     0.000651  1.193315e-09\n",
            "5  0.50           2     0.000442  7.499147e-10\n"
          ]
        }
      ]
    },
    {
      "cell_type": "markdown",
      "source": [
        "### PageRank Implementation 2"
      ],
      "metadata": {
        "id": "d3RwwiKOT6LD"
      }
    },
    {
      "cell_type": "markdown",
      "source": [
        "The idea of the second implementation is to work without storing matrices. More precisely, the idea is to compute the iterations $x_{k+1}=M_mx_{k}$ without considering the matrix $M_m$."
      ],
      "metadata": {
        "id": "PMx1KmslPKIJ"
      }
    },
    {
      "cell_type": "code",
      "source": [
        "G_coo=G.tocoo() #Because we have to access the set of indices L_j corresponding to pages having a link with page j.\n",
        "from collections import defaultdict\n",
        "\n",
        "#Now for these indexes we have to store the pages having a connection with that page. For example for page 0 (column)\n",
        "#we have to store which pages are connected to that page, namely the elements of the form (x,0) and we have to do that for all col_index\n",
        "col_index =np.arange(0,36682) #we iterate\n",
        "\n",
        "#we initialize a dictionary\n",
        "L= defaultdict(list)\n",
        "n=[] #now in n we want to store the lenght of the set L_j, so n_j=|L_j|.\n",
        "\n",
        "for col in col_index:\n",
        "    linked_pages = G_coo.row[G_coo.col == col].tolist()\n",
        "    L[col] = linked_pages\n",
        "    n.append(len(L[col]))\n",
        "\n",
        "#Now we are ready to use the function provided that computes the product M_m*x_k without storing the matrix.\n",
        "\n",
        "dim=36682 #We have to change the name of the lenght of the matrix because now n stands for another variable.\n",
        "m=0.15\n",
        "\n",
        "def multiplication(x,L,n):\n",
        "  xc=x\n",
        "  x=np.zeros(dim) #we change this because we have to access the indexes.\n",
        "  for j in range (0,dim):\n",
        "    if(n[j]==0):\n",
        "      x=x+xc[j]/dim\n",
        "    else:\n",
        "      for i in L[j]:\n",
        "        x[i]=x[i]+xc[j]/n[j]\n",
        "  x=(1-m)*x+m/dim\n",
        "  return x\n"
      ],
      "metadata": {
        "id": "5b7FEjPzQA2g"
      },
      "execution_count": null,
      "outputs": []
    },
    {
      "cell_type": "code",
      "source": [
        "#Here now we proceed with the Power Method.\n",
        "tol=1e-4\n",
        "x0=1/dim*np.ones(dim) #Initialization\n",
        "iter=0\n",
        "while True:\n",
        "    x1=multiplication(x0,L,n)\n",
        "    if np.linalg.norm(x1 - x0, np.inf) <= tol:\n",
        "        break\n",
        "    x0 = x1\n",
        "    iter+=1\n",
        "print(\"The solution is:\", x1)\n",
        "print('Number of iterations:', iter)"
      ],
      "metadata": {
        "colab": {
          "base_uri": "https://localhost:8080/"
        },
        "id": "uJ8B6htfaviE",
        "outputId": "cf8f558b-a922-47ab-a4cb-47d9537f5ab0"
      },
      "execution_count": null,
      "outputs": [
        {
          "output_type": "stream",
          "name": "stdout",
          "text": [
            "The solution is: [1.34576685e-04 4.42540806e-06 6.59006990e-05 ... 4.42540806e-06\n",
            " 4.42540806e-06 4.42540806e-06]\n",
            "Number of iterations: 7\n"
          ]
        }
      ]
    },
    {
      "cell_type": "markdown",
      "source": [
        "As we can see from above the solution and the number of iterations (which is consistent since we are doing the same operations at the end) are the same as those we obtained in the first implementation, but in this case we have never stored the matrix $A$. The general idea, is to exploit the structure of the matrix $M_m$ that essentially is a repetition of the same quantities due to the nature of $S$. Another relevant thing is that the matrix $D$ since it is diagonal when you have a $0$ then the effect of $A$ is cancelled and you have to consider just $S$. This is consistent with the interpretation of the network: when $D$ has a $0$ elements, it means that $n_j$ is $0$ and so the page has no connection: hence for that page we use the randomness connection imposed by matrix $S$. On the other hand, when $n_j$ is non zero, we consider both the effect of both matrixes and we take into consideration the importance of the pages connected , that's why we compute $x_i=x_i+xc_j/n_j$ in the multiplication function. At the end of the function $x=(1-m)*x+m/dim$ allow us to weight the vector accordingly to the damping factor and the background connection of our network."
      ],
      "metadata": {
        "id": "KsXqKbs9di18"
      }
    },
    {
      "cell_type": "markdown",
      "source": [
        "###The role of tolerance ###\n",
        "\n",
        "\n",
        "Since before we played with the value $m$ we can try different values for the tolerance and check their impact on the number of iterations."
      ],
      "metadata": {
        "id": "3gouRirvgDuW"
      }
    },
    {
      "cell_type": "code",
      "source": [
        "#We define the function to call it\n",
        "def pagerank_algorithm(L, x0, tol):\n",
        "    iter = 0\n",
        "    while True:\n",
        "        x1 = multiplication(x0, L, n)\n",
        "        if np.linalg.norm(x1 - x0, np.inf) <= tol:\n",
        "            break\n",
        "        x0 = x1\n",
        "        iter += 1\n",
        "    return iter\n",
        "\n",
        "# Lista di valori di tolleranza\n",
        "tolerances = np.logspace(-3, -11, num=9)\n",
        "iterations_list =[]\n",
        "\n",
        "for tol in tolerances:\n",
        "    x0 = 1/dim * np.ones(dim)  # #Initialization\n",
        "    iterations = pagerank_algorithm(L, x0, tol)\n",
        "    iterations_list.append(iterations)\n",
        "\n",
        "# Plot\n",
        "plt.plot(tolerances, iterations_list, marker='o', label=f'm={m}') #to remind the value of m we are using\n",
        "plt.xscale('log')  # We use a logaritmic scale\n",
        "plt.xlabel('Tolerance')\n",
        "plt.ylabel('Number of iterations')\n",
        "plt.legend()\n",
        "plt.title('Effect of the tolerance on the number of iterations')\n",
        "plt.show()\n"
      ],
      "metadata": {
        "colab": {
          "base_uri": "https://localhost:8080/",
          "height": 476
        },
        "id": "KMqM9EsogL32",
        "outputId": "a17b1495-2c41-4ef2-9059-9df0376d6e81"
      },
      "execution_count": null,
      "outputs": [
        {
          "output_type": "display_data",
          "data": {
            "text/plain": [
              "<Figure size 640x480 with 1 Axes>"
            ],
            "image/png": "[encoded data removed]"
          },
          "metadata": {}
        }
      ]
    },
    {
      "cell_type": "markdown",
      "source": [
        "The graph shows the effect of decreasing the tolerance in the number of iterations. It highlights what we expected, namely that the number of iterations required to obtain a more precise solution is higher. At $10^{-8}$ the graph steepens because the number of iterations to attains a more accurate solution increases."
      ],
      "metadata": {
        "id": "jein4TFgiQY_"
      }
    }
  ]
}