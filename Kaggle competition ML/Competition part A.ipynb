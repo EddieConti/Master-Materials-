{
 "cells": [
  {
   "cell_type": "code",
   "execution_count": 72,
   "metadata": {},
   "outputs": [],
   "source": [
    "#Lesion', presence or absence of skin lesion\n",
    "#'Genetic Propensity', average propensity score due to genetic causes\n",
    "#'Skin X test', result of the clinical test,\n",
    "#'Skin color', binary value considering a dichotomy of skin color\n",
    "#'Small size', size of the lesion is small\n",
    "#'Mid size', size of the lesion is mid\n",
    "#'Large size', size of the lesion\n",
    "#'Mid', area of the lesion is mid\n",
    "#'Small', area of the lesion is small\n",
    "#'Large', area of the lesion is large\n",
    "#'Doughnuts consumption', the average number of dougnuts consumed every day by the patient,\n",
    "#'Fake/Real': the outcome to predict\n"
   ]
  },
  {
   "cell_type": "code",
   "execution_count": 44,
   "metadata": {},
   "outputs": [
    {
     "name": "stdout",
     "output_type": "stream",
     "text": [
      "<class 'pandas.core.frame.DataFrame'>\n",
      "Index: 503 entries, 0 to 596\n",
      "Data columns (total 13 columns):\n",
      " #   Column              Non-Null Count  Dtype  \n",
      "---  ------              --------------  -----  \n",
      " 0   Id                  503 non-null    int64  \n",
      " 1   Lession             488 non-null    float64\n",
      " 2   Genetic Propensity  361 non-null    float64\n",
      " 3   Skin X test         379 non-null    float64\n",
      " 4   Skin color          380 non-null    float64\n",
      " 5   Small size          369 non-null    float64\n",
      " 6   Mid size            374 non-null    float64\n",
      " 7   Large size          369 non-null    float64\n",
      " 8   Mid                 384 non-null    float64\n",
      " 9   Small               370 non-null    float64\n",
      " 10  Large               366 non-null    float64\n",
      " 11  Fake/Real           503 non-null    int32  \n",
      " 12  coincide            503 non-null    int32  \n",
      "dtypes: float64(10), int32(2), int64(1)\n",
      "memory usage: 51.1 KB\n"
     ]
    },
    {
     "name": "stderr",
     "output_type": "stream",
     "text": [
      "C:\\Users\\Eddie\\AppData\\Local\\Temp\\ipykernel_9260\\1451583161.py:27: SettingWithCopyWarning: \n",
      "A value is trying to be set on a copy of a slice from a DataFrame\n",
      "\n",
      "See the caveats in the documentation: https://pandas.pydata.org/pandas-docs/stable/user_guide/indexing.html#returning-a-view-versus-a-copy\n",
      "  dataset['Lession'].loc[mask] = dataset['Lession'].loc[mask].fillna(1)\n"
     ]
    }
   ],
   "source": [
    "import pandas as pd\n",
    "import matplotlib.pyplot as plt\n",
    "import numpy as np\n",
    "import xgboost as xgb\n",
    "from sklearn.model_selection import train_test_split\n",
    "dataset = pd.read_csv('train_A_derma.csv')\n",
    "dataset.head()\n",
    "X=dataset.values\n",
    "y=X[:,-1]\n",
    "X=X[:,:-1]\n",
    "\n",
    "\n",
    "dataset=dataset.drop('Doughnuts consumption',axis=1)\n",
    "#Let's try to fill the data.\n",
    "dataset = dataset.dropna(thresh=dataset.shape[1] - 5 + 1) #drop rows with more than 5 isnan values\n",
    "\n",
    "dataset['Fake/Real']=np.where(dataset['Fake/Real']=='real',1,0)\n",
    "\n",
    "dataset['coincide'] = np.where((dataset['Small size'] == dataset['Small']) | \n",
    "                              (dataset['Large size'] == dataset['Large']) | \n",
    "                               (dataset['Mid size'] == dataset['Mid']), 1, 0)\n",
    "\n",
    "#We have to fill the nan in a consistent way\n",
    "\n",
    "mask =((dataset['Mid'] == 1) | (dataset['Small'] == 1) | (dataset['Large'] == 1) |\n",
    "    (dataset['Mid size'] == 1) | (dataset['Small size'] == 1) | (dataset['Large size'] == 1))\n",
    "dataset['Lession'].loc[mask] = dataset['Lession'].loc[mask].fillna(1)\n",
    "\n",
    "#creiamo una funzione che mi completa i nan con gradient boosting: da genetic propensity in poi\n",
    "\n",
    "\n",
    "dataset.info()"
   ]
  },
  {
   "cell_type": "code",
   "execution_count": 47,
   "metadata": {},
   "outputs": [],
   "source": [
    "model=xgb.XGBClassifier()\n",
    "subset_data = dataset.dropna(subset='Skin color')\n",
    "X = subset_data.drop('Skin color', axis=1)\n",
    "y = subset_data['Skin color']  \n",
    "model.fit(X, y)\n",
    "X_missing = dataset.drop('Skin color', axis=1)  \n",
    "missing_indices = dataset['Skin color'].isna() \n",
    "predictions = model.predict(X_missing)\n",
    "dataset.loc[missing_indices, 'Skin color'] = predictions[missing_indices]"
   ]
  },
  {
   "cell_type": "code",
   "execution_count": 48,
   "metadata": {},
   "outputs": [],
   "source": [
    "dataset['Skin X test']=dataset['Skin X test'].astype('Int64')\n",
    "dataset['Skin X test']-=1"
   ]
  },
  {
   "cell_type": "code",
   "execution_count": 49,
   "metadata": {},
   "outputs": [],
   "source": [
    "import xgboost as xgb\n",
    "model = xgb.XGBClassifier()\n",
    "\n",
    "dict=['Small size', 'Mid size', 'Large size', 'Mid', 'Small', 'Large','Skin X test']\n",
    "\n",
    "for word in dict:\n",
    "    subset_data = dataset.dropna(subset=[word])\n",
    "    X = subset_data.drop(word, axis=1)  # Variabili indipendenti\n",
    "    y = subset_data[word]  \n",
    "    model.fit(X, y)\n",
    "    X_missing = dataset.drop(word, axis=1)  \n",
    "    missing_indices = dataset[word].isna() \n",
    "    predictions = model.predict(X_missing)\n",
    "    dataset.loc[missing_indices, word] = predictions[missing_indices]\n",
    "    "
   ]
  },
  {
   "cell_type": "code",
   "execution_count": 50,
   "metadata": {},
   "outputs": [],
   "source": [
    "mean = dataset['Genetic Propensity'].mean()\n",
    "std = dataset['Genetic Propensity'].std()\n",
    "missing_indices = dataset['Genetic Propensity'].isna()\n",
    "random_values = np.random.normal(mean, std, missing_indices.sum())\n",
    "dataset.loc[missing_indices, 'Genetic Propensity'] = random_values"
   ]
  },
  {
   "cell_type": "code",
   "execution_count": 51,
   "metadata": {},
   "outputs": [
    {
     "name": "stdout",
     "output_type": "stream",
     "text": [
      "<class 'pandas.core.frame.DataFrame'>\n",
      "Index: 503 entries, 0 to 596\n",
      "Data columns (total 12 columns):\n",
      " #   Column              Non-Null Count  Dtype  \n",
      "---  ------              --------------  -----  \n",
      " 0   Lession             503 non-null    float64\n",
      " 1   Genetic Propensity  503 non-null    float64\n",
      " 2   Skin X test         503 non-null    Int64  \n",
      " 3   Skin color          503 non-null    float64\n",
      " 4   Small size          503 non-null    float64\n",
      " 5   Mid size            503 non-null    float64\n",
      " 6   Large size          503 non-null    float64\n",
      " 7   Mid                 503 non-null    float64\n",
      " 8   Small               503 non-null    float64\n",
      " 9   Large               503 non-null    float64\n",
      " 10  Fake/Real           503 non-null    int32  \n",
      " 11  coincide            503 non-null    int32  \n",
      "dtypes: Int64(1), float64(9), int32(2)\n",
      "memory usage: 47.6 KB\n"
     ]
    }
   ],
   "source": [
    "dataset['Lession']=dataset['Lession'].fillna(0)\n",
    "dataset.info()"
   ]
  },
  {
   "cell_type": "code",
   "execution_count": 52,
   "metadata": {},
   "outputs": [],
   "source": [
    "y=dataset['Fake/Real']\n",
    "dataset=dataset.drop('Fake/Real',axis=1)\n",
    "X=dataset.values"
   ]
  },
  {
   "cell_type": "code",
   "execution_count": 11,
   "metadata": {},
   "outputs": [
    {
     "name": "stdout",
     "output_type": "stream",
     "text": [
      "0.801980198019802\n"
     ]
    }
   ],
   "source": [
    "from sklearn import model_selection\n",
    "from sklearn.ensemble import RandomForestClassifier\n",
    "from sklearn.metrics import accuracy_score\n",
    "from sklearn import neighbors\n",
    "\n",
    "                               \n",
    "X_train,X_val,y_train,y_val = model_selection.train_test_split(X,y,train_size=0.8,random_state=42)\n",
    "\n",
    "#model = RandomForestClassifier(n_estimators=10, random_state=42)\n",
    "model = xgb.XGBClassifier()\n",
    "model.fit(X_train,y_train)\n",
    "y_pred=model.predict(X_val)\n",
    "accuracy = accuracy_score(y_val, y_pred)\n",
    "print(accuracy)"
   ]
  },
  {
   "cell_type": "code",
   "execution_count": 14,
   "metadata": {},
   "outputs": [
    {
     "name": "stdout",
     "output_type": "stream",
     "text": [
      "Parametri ottimali: {'colsample_bytree': 0.9, 'gamma': 0, 'learning_rate': 0.5, 'max_depth': 3, 'min_child_weight': 3, 'n_estimators': 5, 'subsample': 0.9}\n",
      "Accuratezza sul set di convalida: 0.7647058823529411\n"
     ]
    }
   ],
   "source": [
    "from xgboost import XGBClassifier\n",
    "from sklearn.model_selection import GridSearchCV\n",
    "\n",
    "# Crea un modello XGBoost\n",
    "model = XGBClassifier()\n",
    "\n",
    "# Definisci una griglia di parametri da esplorare\n",
    "param_grid = {\n",
    "    'n_estimators': [5,10,15,20,25,30,35,40],\n",
    "    'learning_rate': [0.5,1],\n",
    "    'max_depth': [3, 4, 5],\n",
    "    'min_child_weight': [1, 3, 5],\n",
    "    'subsample': [0.8, 0.9, 1.0],\n",
    "    'colsample_bytree': [0.8, 0.9, 1.0],\n",
    "    'gamma': [0, 0.1, 0.2],\n",
    "}\n",
    "X_train,X_val,y_train,y_val = model_selection.train_test_split(X,y,train_size=0.9,random_state=42)\n",
    "\n",
    "# Crea un oggetto GridSearchCV per la ricerca degli iperparametri\n",
    "grid_search = GridSearchCV(estimator=model, param_grid=param_grid, scoring='accuracy', cv=3, n_jobs=-1)\n",
    "\n",
    "# Addestra il modello con la griglia di parametri\n",
    "grid_search.fit(X_train, y_train)\n",
    "\n",
    "# Ottieni il miglior modello\n",
    "best_model = grid_search.best_estimator_\n",
    "\n",
    "# Esegui le previsioni sul set di convalida\n",
    "y_pred = best_model.predict(X_val)\n",
    "\n",
    "# Calcola l'accuratezza sul set di convalida\n",
    "accuracy = accuracy_score(y_val, y_pred)\n",
    "\n",
    "# Stampa i parametri ottimali e l'accuratezza\n",
    "print(\"Parametri ottimali:\", grid_search.best_params_)\n",
    "print(\"Accuratezza sul set di convalida:\", accuracy)\n"
   ]
  },
  {
   "cell_type": "code",
   "execution_count": 10,
   "metadata": {},
   "outputs": [
    {
     "name": "stdout",
     "output_type": "stream",
     "text": [
      "0.9411764705882353\n",
      "0.8071135430916551\n"
     ]
    }
   ],
   "source": [
    "from sklearn.preprocessing import StandardScaler\n",
    "random_state=np.arange(43)\n",
    "accuracy=[]\n",
    "scaler = StandardScaler()\n",
    "\n",
    "for i in random_state:\n",
    "    X_train,X_val,y_train,y_val = model_selection.train_test_split(X,y,train_size=0.9,random_state=i)\n",
    "    X_train= scaler.fit_transform(X_train)\n",
    "    model = xgb.XGBClassifier()\n",
    "    model.fit(X_train, y_train)\n",
    "    X_val=scaler.transform(X_val)\n",
    "    y_pred=model.predict(X_val)\n",
    "    accuracy.append(accuracy_score(y_val, y_pred))\n",
    "    \n",
    "accuracy=np.array(accuracy)\n",
    "print(accuracy.max())\n",
    "print(accuracy.mean())"
   ]
  },
  {
   "cell_type": "code",
   "execution_count": 16,
   "metadata": {},
   "outputs": [
    {
     "name": "stderr",
     "output_type": "stream",
     "text": [
      "C:\\Users\\Eddie\\AppData\\Local\\Temp\\ipykernel_9260\\4162459978.py:14: SettingWithCopyWarning: \n",
      "A value is trying to be set on a copy of a slice from a DataFrame\n",
      "\n",
      "See the caveats in the documentation: https://pandas.pydata.org/pandas-docs/stable/user_guide/indexing.html#returning-a-view-versus-a-copy\n",
      "  test_set['Lession'].loc[mask] = test_set['Lession'].loc[mask].fillna(1)\n"
     ]
    }
   ],
   "source": [
    "import pandas as pd\n",
    "test_set= pd.read_csv('test_A_derma.csv')\n",
    "test_set=test_set.drop('Doughnuts consumption',axis=1)\n",
    "#Let's try to fill the data.\n",
    "\n",
    "test_set['coincide'] = np.where((test_set['Small size'] == test_set['Small']) | \n",
    "                              (test_set['Large size'] == test_set['Large']) | \n",
    "                               (test_set['Mid size'] == test_set['Mid']), 1, 0)\n",
    "\n",
    "#We have to fill the nan in a consistent way\n",
    "\n",
    "mask =((test_set['Mid'] == 1) | (test_set['Small'] == 1) | (test_set['Large'] == 1) |\n",
    "    (test_set['Mid size'] == 1) | (test_set['Small size'] == 1) | (test_set['Large size'] == 1))\n",
    "test_set['Lession'].loc[mask] = test_set['Lession'].loc[mask].fillna(1)"
   ]
  },
  {
   "cell_type": "code",
   "execution_count": 17,
   "metadata": {},
   "outputs": [],
   "source": [
    "import xgboost as xgb\n",
    "model = xgb.XGBClassifier()\n",
    "subset_data = test_set.dropna(subset='Skin color')\n",
    "X = subset_data.drop('Skin color', axis=1)\n",
    "y = subset_data['Skin color']  \n",
    "model.fit(X, y)\n",
    "X_missing = test_set.drop('Skin color', axis=1)  \n",
    "missing_indices = test_set['Skin color'].isna() \n",
    "predictions = model.predict(X_missing)\n",
    "test_set.loc[missing_indices, 'Skin color'] = predictions[missing_indices]"
   ]
  },
  {
   "cell_type": "code",
   "execution_count": 18,
   "metadata": {},
   "outputs": [],
   "source": [
    "test_set['Skin X test']=test_set['Skin X test'].astype('Int64')\n",
    "test_set['Skin X test']-=1"
   ]
  },
  {
   "cell_type": "code",
   "execution_count": 19,
   "metadata": {},
   "outputs": [],
   "source": [
    "import xgboost as xgb\n",
    "model = xgb.XGBClassifier()\n",
    "\n",
    "dict=['Small size', 'Mid size', 'Large size', 'Mid', 'Small', 'Large','Skin X test']\n",
    "\n",
    "for word in dict:\n",
    "    subset_data = test_set.dropna(subset=[word])\n",
    "    X = subset_data.drop(word, axis=1)  # Variabili indipendenti\n",
    "    y = subset_data[word]  \n",
    "    model.fit(X, y)\n",
    "    X_missing = test_set.drop(word, axis=1)  \n",
    "    missing_indices = test_set[word].isna() \n",
    "    predictions = model.predict(X_missing)\n",
    "    test_set.loc[missing_indices, word] = predictions[missing_indices]"
   ]
  },
  {
   "cell_type": "code",
   "execution_count": 20,
   "metadata": {},
   "outputs": [],
   "source": [
    "mean = test_set['Genetic Propensity'].mean()\n",
    "std = test_set['Genetic Propensity'].std()\n",
    "missing_indices = test_set['Genetic Propensity'].isna()\n",
    "random_values = np.random.normal(mean, std, missing_indices.sum())\n",
    "test_set.loc[missing_indices, 'Genetic Propensity'] = random_values"
   ]
  },
  {
   "cell_type": "code",
   "execution_count": 21,
   "metadata": {},
   "outputs": [],
   "source": [
    "test_set['Lession']=test_set['Lession'].fillna(0)\n"
   ]
  },
  {
   "cell_type": "code",
   "execution_count": 60,
   "metadata": {},
   "outputs": [],
   "source": [
    "X=dataset.values\n",
    "\n",
    "#test_set=test_set.drop(columns='Id', axis=1)\n",
    "X_test=test_set.values\n",
    "model = xgb.XGBClassifier()\n",
    "model.fit(X,y)\n",
    "y_pred=model.predict(X_test)"
   ]
  },
  {
   "cell_type": "code",
   "execution_count": 62,
   "metadata": {},
   "outputs": [
    {
     "name": "stdout",
     "output_type": "stream",
     "text": [
      "[0 1 0 1 1 0 1 1 1 0 1 0 0 1 0 0 0 0 0 0 0 0 0 0 0 1 1 0 1 0 0 0 1 0 1 0 0\n",
      " 0 0 1 0 0 0 1 0 1 1 1 0 0 1 1 0 1 0 0 0 1 0 0 1 0 0 0 0 0 1 1 0 0 0 0 0 1\n",
      " 0 0 0 0 1 1 1 0 1 1 1 0 0 0 0 0 0 0 1 0 1 0 1 0 0 1 0 1 1 0 1 0 1 0 1 0 1\n",
      " 0 0 1 1 1 1 0 0 1 1 0 0 1 0 0 0 1 0 0 0 0 0 1 1 0 0 1 0 1 0 1 0 0 1 1 1 0\n",
      " 0 0 0 1 0 0 0 0 0 0 0 0 0 1 1 0 0 0 1 0 0 0 0 0 1 1 1 0 0 1 1 1 0 0 1 1 1\n",
      " 0 0 1 0 0 0 1 0 0 1 1 1 0 0 0 1 0 1 0 0 0 1 0 1 0 0 1 1 1 1 0 0 0 0 1 0 1\n",
      " 0 0 0 0 1 0 0 0 0 1 0 0 0 1 1 0 0 1 0 0 0 0 1 1 1 1 1 0 0 0 1 1 1 0]\n"
     ]
    }
   ],
   "source": [
    "print(y_pred)"
   ]
  },
  {
   "cell_type": "code",
   "execution_count": 63,
   "metadata": {},
   "outputs": [],
   "source": [
    "y_pred=pd.Series(np.where(y_pred==1, 'real', 'fake'))"
   ]
  },
  {
   "cell_type": "code",
   "execution_count": 65,
   "metadata": {},
   "outputs": [
    {
     "name": "stdout",
     "output_type": "stream",
     "text": [
      "0      fake\n",
      "1      real\n",
      "2      fake\n",
      "3      real\n",
      "4      real\n",
      "       ... \n",
      "251    fake\n",
      "252    real\n",
      "253    real\n",
      "254    real\n",
      "255    fake\n",
      "Length: 256, dtype: object\n"
     ]
    }
   ],
   "source": [
    "print(y_pred)\n",
    "y_pred.to_csv('Y_pred_testA_Eddie.csv')"
   ]
  },
  {
   "cell_type": "code",
   "execution_count": 66,
   "metadata": {},
   "outputs": [],
   "source": [
    "Eddie_A = pd.read_csv('Y_pred_testA_Eddie.csv').iloc[:256,-1]\n",
    "\n",
    "eddie = pd.read_csv('y_prediction_v7.csv').iloc[256:,-1]\n",
    "\n",
    "y_prediction = pd.concat([Eddie_A, eddie]).reset_index(drop=True).reset_index()\n",
    "y_prediction.columns = ['Id','Prediction']"
   ]
  },
  {
   "cell_type": "code",
   "execution_count": 68,
   "metadata": {},
   "outputs": [],
   "source": [
    "y_prediction.to_csv('y_prediction_v22.csv', sep=',',index=False)"
   ]
  }
 ],
 "metadata": {
  "kernelspec": {
   "display_name": "base",
   "language": "python",
   "name": "python3"
  },
  "language_info": {
   "codemirror_mode": {
    "name": "ipython",
    "version": 3
   },
   "file_extension": ".py",
   "mimetype": "text/x-python",
   "name": "python",
   "nbconvert_exporter": "python",
   "pygments_lexer": "ipython3",
   "version": "3.11.5"
  }
 },
 "nbformat": 4,
 "nbformat_minor": 2
}
